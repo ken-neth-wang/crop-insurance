{
 "cells": [
  {
   "cell_type": "code",
   "execution_count": 1,
   "metadata": {},
   "outputs": [],
   "source": [
    "import numpy as np\n",
    "import pandas as pd"
   ]
  },
  {
   "cell_type": "code",
   "execution_count": 42,
   "metadata": {},
   "outputs": [],
   "source": [
    "url_1 = 'district_wise_rainfall_normal.csv'\n",
    "district_wise_dataset = pd.read_csv(url_1) \n",
    "url_2 = 'rainfall_in_india_1901-2015.csv'\n",
    "subdiv_df = pd.read_csv(url_2)\n",
    "district_name = district_wise_dataset[\"STATE_UT_NAME\"].unique()[22]\n",
    "subdiv_df.set_index(['SUBDIVISION','YEAR'], inplace=True)\n",
    "\n"
   ]
  },
  {
   "cell_type": "code",
   "execution_count": 61,
   "metadata": {},
   "outputs": [
    {
     "data": {
      "text/plain": [
       "YEAR\n",
       "1901    1284.2\n",
       "1902    1349.0\n",
       "1903    1568.3\n",
       "1904    1514.8\n",
       "1905    1357.3\n",
       "         ...  \n",
       "2011    1346.2\n",
       "2012    1405.9\n",
       "2013    1632.4\n",
       "2014    1536.9\n",
       "2015    1210.1\n",
       "Name: ANNUAL, Length: 115, dtype: float64"
      ]
     },
     "execution_count": 61,
     "metadata": {},
     "output_type": "execute_result"
    }
   ],
   "source": [
    "subdiv_df.loc[madhyapradesh]['ANNUAL']"
   ]
  },
  {
   "attachments": {},
   "cell_type": "markdown",
   "metadata": {},
   "source": [
    "data is in mm of rainfall\n",
    "goal is to create a montecarlo simulator of monthly rain in a chosen region \n",
    "(let's choose Madhya Pradesh because supposedly it accounts for most of soybean production 58%)"
   ]
  },
  {
   "cell_type": "code",
   "execution_count": null,
   "metadata": {},
   "outputs": [],
   "source": []
  }
 ],
 "metadata": {
  "kernelspec": {
   "display_name": "crop-insurance",
   "language": "python",
   "name": "python3"
  },
  "language_info": {
   "codemirror_mode": {
    "name": "ipython",
    "version": 3
   },
   "file_extension": ".py",
   "mimetype": "text/x-python",
   "name": "python",
   "nbconvert_exporter": "python",
   "pygments_lexer": "ipython3",
   "version": "3.10.9"
  },
  "orig_nbformat": 4,
  "vscode": {
   "interpreter": {
    "hash": "a2f9380cafc0b44b78c64754c622ff60b8f753f915742d5ae8976dfec6060a57"
   }
  }
 },
 "nbformat": 4,
 "nbformat_minor": 2
}
